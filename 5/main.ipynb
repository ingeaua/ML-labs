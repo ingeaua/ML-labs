{
 "cells": [
  {
   "cell_type": "markdown",
   "source": [
    "# 5. Regresia liniară, Ridge și Lasso"
   ],
   "metadata": {
    "collapsed": false
   },
   "id": "541e1ac9822366f9"
  },
  {
   "cell_type": "code",
   "execution_count": 10,
   "outputs": [],
   "source": [
    "from sklearn.linear_model import LinearRegression, Ridge, Lasso\n",
    "from sklearn.metrics import mean_squared_error, mean_absolute_error\n",
    "from sklearn.utils import shuffle\n",
    "from sklearn.preprocessing import StandardScaler\n",
    "import numpy as np\n",
    "import sys"
   ],
   "metadata": {
    "collapsed": false,
    "ExecuteTime": {
     "end_time": "2024-10-21T19:33:21.324198200Z",
     "start_time": "2024-10-21T19:33:21.311678400Z"
    }
   },
   "id": "e18dcaf9c7685df9"
  },
  {
   "cell_type": "code",
   "execution_count": 11,
   "outputs": [],
   "source": [
    "def normalize_data(train_data, type=None):\n",
    "\n",
    "    scaled_x_train = train_data\n",
    "\n",
    "    if type == 'standard':\n",
    "        scaler = StandardScaler()\n",
    "        scaler.fit(train_data)\n",
    "        scaled_x_train = scaler.transform(train_data)\n",
    "    elif type == 'l1':\n",
    "        scaled_x_train = train_data / np.expand_dims(np.sum(abs(train_data), axis=1), axis=1)\n",
    "    elif type == 'l2':\n",
    "        scaled_x_train = train_data / np.expand_dims(np.sqrt(np.sum(train_data ** 2, axis=1)), axis=1)\n",
    "\n",
    "    return scaled_x_train"
   ],
   "metadata": {
    "collapsed": false,
    "ExecuteTime": {
     "end_time": "2024-10-21T19:33:22.480737700Z",
     "start_time": "2024-10-21T19:33:22.472730700Z"
    }
   },
   "id": "9b81bc27e28ddc1f"
  },
  {
   "cell_type": "code",
   "execution_count": 26,
   "outputs": [],
   "source": [
    "def training_pipeline(train_data, train_labels, test_data, test_labels, model):\n",
    "\n",
    "    model.fit(train_data, train_labels)\n",
    "    predicted_labels = model.predict(test_data)\n",
    "\n",
    "    mse_value = mean_squared_error(test_labels, predicted_labels)\n",
    "    mae_value = mean_absolute_error(test_labels, predicted_labels)\n",
    "\n",
    "    return mse_value, mae_value"
   ],
   "metadata": {
    "collapsed": false,
    "ExecuteTime": {
     "end_time": "2024-10-21T19:42:34.533769400Z",
     "start_time": "2024-10-21T19:42:34.521757100Z"
    }
   },
   "id": "b45dc3d6095191b2"
  },
  {
   "cell_type": "code",
   "execution_count": 4,
   "outputs": [],
   "source": [
    "training_data = np.load('data/training_data.npy')\n",
    "prices = np.load('data/prices.npy')\n",
    "\n",
    "training_data, prices = shuffle(training_data, prices, random_state=0)"
   ],
   "metadata": {
    "collapsed": false,
    "ExecuteTime": {
     "end_time": "2024-10-21T19:23:01.463594700Z",
     "start_time": "2024-10-21T19:23:01.443443700Z"
    }
   },
   "id": "cf334c343088e686"
  },
  {
   "cell_type": "markdown",
   "source": [
    "### Cross validation"
   ],
   "metadata": {
    "collapsed": false
   },
   "id": "1b26d2d8b11d1331"
  },
  {
   "cell_type": "code",
   "execution_count": 20,
   "outputs": [],
   "source": [
    "num_samples = int(len(training_data) / 3)\n",
    "\n",
    "normalized_train_data = normalize_data(training_data, 'standard')\n",
    "\n",
    "train1 = normalized_train_data[:num_samples]\n",
    "prices1 = prices[:num_samples]\n",
    "\n",
    "train2 = normalized_train_data[num_samples : num_samples * 2]\n",
    "prices2 = prices[num_samples : num_samples * 2]\n",
    "\n",
    "train3 = normalized_train_data[2 * num_samples :]\n",
    "prices3 = prices[2 * num_samples :]\n"
   ],
   "metadata": {
    "collapsed": false,
    "ExecuteTime": {
     "end_time": "2024-10-21T19:39:58.528023200Z",
     "start_time": "2024-10-21T19:39:58.516543400Z"
    }
   },
   "id": "ff7f4a95174f4c75"
  },
  {
   "cell_type": "code",
   "execution_count": 33,
   "outputs": [
    {
     "name": "stdout",
     "output_type": "stream",
     "text": [
      "Mean MSE: 3.167414665222168\n",
      "Mean MAE: 1.3203471501668294\n"
     ]
    }
   ],
   "source": [
    "linear_regression_model = LinearRegression()\n",
    "\n",
    "mse1, mae1 = training_pipeline(np.concatenate((train1, train2)), np.concatenate((prices1, prices2)), train3, prices3, linear_regression_model)\n",
    "mse2, mae2 = training_pipeline(np.concatenate((train1, train3)), np.concatenate((prices1, prices3)), train2, prices2, linear_regression_model)\n",
    "mse3, mae3 = training_pipeline(np.concatenate((train2, train3)), np.concatenate((prices2, prices3)), train1, prices1, linear_regression_model)\n",
    "\n",
    "print(f'Mean MSE: {(mse1 + mse2 + mse3) / 3}\\nMean MAE: {(mae1 + mae2 + mae3) / 3}\\n')"
   ],
   "metadata": {
    "collapsed": false,
    "ExecuteTime": {
     "end_time": "2024-10-21T19:43:12.675021700Z",
     "start_time": "2024-10-21T19:43:12.657141800Z"
    }
   },
   "id": "838a86c473b49cb0"
  },
  {
   "cell_type": "code",
   "execution_count": 38,
   "outputs": [
    {
     "name": "stdout",
     "output_type": "stream",
     "text": [
      "------- Alpha 1 ------\n",
      "Mean MSE: 3.1674696604410806\n",
      "Mean MAE: 1.3195749918619792\n",
      "\n",
      "------- Alpha 10 ------\n",
      "Mean MSE: 3.167327562967936\n",
      "Mean MAE: 1.3193677266438801\n",
      "\n",
      "------- Alpha 100 ------\n",
      "Mean MSE: 3.17224915822347\n",
      "Mean MAE: 1.318570613861084\n",
      "\n",
      "------- Alpha 1000 ------\n",
      "Mean MSE: 3.432858149210612\n",
      "Mean MAE: 1.366493860880534\n",
      "\n",
      "10\n"
     ]
    }
   ],
   "source": [
    "best_alpha = 1\n",
    "minimum_mean_MSE = sys.maxsize\n",
    "\n",
    "for alphaValue in [1, 10, 100, 1000]:\n",
    "\n",
    "    ridge_regression_model = Ridge(alpha=alphaValue)\n",
    "\n",
    "\n",
    "    mse1, mae1 = training_pipeline(np.concatenate((train1, train2)), np.concatenate((prices1, prices2)), train3, prices3, ridge_regression_model)\n",
    "    mse2, mae2 = training_pipeline(np.concatenate((train1, train3)), np.concatenate((prices1, prices3)), train2, prices2, ridge_regression_model)\n",
    "    mse3, mae3 = training_pipeline(np.concatenate((train2, train3)), np.concatenate((prices2, prices3)), train1, prices1, ridge_regression_model)\n",
    "\n",
    "    mean_MSE = (mse1 + mse2 + mse3) / 3\n",
    "    mean_MAE = (mae1 + mae2 + mae3) / 3\n",
    "\n",
    "    if mean_MSE < minimum_mean_MSE:\n",
    "        best_alpha = alphaValue\n",
    "        minimum_mean_MSE = mean_MSE\n",
    "\n",
    "    print(f'------- Alpha {alphaValue} ------')\n",
    "    print(f'Mean MSE: {mean_MSE}\\nMean MAE: {mean_MAE}\\n')\n",
    "\n",
    "print(best_alpha)"
   ],
   "metadata": {
    "collapsed": false,
    "ExecuteTime": {
     "end_time": "2024-10-21T19:45:05.397211700Z",
     "start_time": "2024-10-21T19:45:05.331395700Z"
    }
   },
   "id": "9d103966de85213f"
  },
  {
   "cell_type": "code",
   "execution_count": 39,
   "outputs": [
    {
     "name": "stdout",
     "output_type": "stream",
     "text": [
      "Coefs: [ 1.6635172  -0.15532357 -0.46031442  0.40461838  1.3357221   0.13253653\n",
      " -0.0868261   0.          0.36664298 -0.36663988  0.          0.\n",
      " -0.229365    0.22936533]\n",
      "Bias: 5.695129871368408\n",
      "Most significant feature: 1\n",
      "Least significant feature: 3\n"
     ]
    }
   ],
   "source": [
    "model = Ridge(alpha=10)\n",
    "model.fit(normalized_train_data, prices)\n",
    "print(f'Coefs: {model.coef_}')\n",
    "print(f'Bias: {model.intercept_}')\n",
    "print(f'Most significant feature: {np.argmax(model.coef_) +1}')\n",
    "print(f'Least significant feature: {np.argmin(model.coef_) +1}') "
   ],
   "metadata": {
    "collapsed": false,
    "ExecuteTime": {
     "end_time": "2024-10-21T19:46:26.197815200Z",
     "start_time": "2024-10-21T19:46:26.167302400Z"
    }
   },
   "id": "6c2047c45b7bec22"
  }
 ],
 "metadata": {
  "kernelspec": {
   "display_name": "Python 3",
   "language": "python",
   "name": "python3"
  },
  "language_info": {
   "codemirror_mode": {
    "name": "ipython",
    "version": 2
   },
   "file_extension": ".py",
   "mimetype": "text/x-python",
   "name": "python",
   "nbconvert_exporter": "python",
   "pygments_lexer": "ipython2",
   "version": "2.7.6"
  }
 },
 "nbformat": 4,
 "nbformat_minor": 5
}
