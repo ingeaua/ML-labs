{
 "cells": [
  {
   "cell_type": "markdown",
   "source": [
    "# 6. Rețele neuronale în Pytorch"
   ],
   "metadata": {
    "collapsed": false
   },
   "id": "2403bc4904ef3da3"
  },
  {
   "cell_type": "code",
   "execution_count": 3,
   "id": "initial_id",
   "metadata": {
    "collapsed": true,
    "ExecuteTime": {
     "end_time": "2024-10-26T13:50:10.446257600Z",
     "start_time": "2024-10-26T13:50:03.493605900Z"
    }
   },
   "outputs": [
    {
     "name": "stdout",
     "output_type": "stream",
     "text": [
      "tensor([[0.2252, 0.5629, 0.1778],\n",
      "        [0.0730, 0.7362, 0.9734],\n",
      "        [0.0144, 0.7123, 0.9587],\n",
      "        [0.0410, 0.8558, 0.1417],\n",
      "        [0.6122, 0.9172, 0.7144]])\n"
     ]
    }
   ],
   "source": [
    "import numpy as np\n",
    "import torch\n",
    "\n",
    "x = torch.rand(5, 3)\n",
    "print(x)"
   ]
  },
  {
   "cell_type": "code",
   "execution_count": 4,
   "outputs": [
    {
     "data": {
      "text/plain": "True"
     },
     "execution_count": 4,
     "metadata": {},
     "output_type": "execute_result"
    }
   ],
   "source": [
    "torch.cuda.is_available()"
   ],
   "metadata": {
    "collapsed": false,
    "ExecuteTime": {
     "end_time": "2024-10-26T13:50:14.823781800Z",
     "start_time": "2024-10-26T13:50:12.868313900Z"
    }
   },
   "id": "df85eba27c5f35fc"
  },
  {
   "cell_type": "code",
   "execution_count": 5,
   "outputs": [],
   "source": [
    "import torch.nn as nn\n",
    "import torch.nn.functional as F"
   ],
   "metadata": {
    "collapsed": false,
    "ExecuteTime": {
     "end_time": "2024-10-26T13:50:16.958697700Z",
     "start_time": "2024-10-26T13:50:16.930941600Z"
    }
   },
   "id": "b4c952cf9f6cecdc"
  },
  {
   "cell_type": "code",
   "execution_count": 6,
   "outputs": [],
   "source": [
    "class NeuralNetwork(nn.Module):\n",
    "    \n",
    "    def __init__(self):\n",
    "        super().__init__()\n",
    "        self.flatten = nn.Flatten()\n",
    "        self.first_layer = nn.Linear(28 * 28, 512)\n",
    "        self.second_layer = nn.Linear(512, 512)\n",
    "        self.output_layer = nn.Linear(512, 10)\n",
    "        \n",
    "    def forward(self, x):\n",
    "        x = self.flatten(x)\n",
    "        x = F.relu(self.first_layer(x))\n",
    "        x = F.relu(self.second_layer(x))\n",
    "        x = self.output_layer(x)\n",
    "        return x\n"
   ],
   "metadata": {
    "collapsed": false,
    "ExecuteTime": {
     "end_time": "2024-10-26T13:50:29.346724600Z",
     "start_time": "2024-10-26T13:50:29.342132800Z"
    }
   },
   "id": "146543f46f2d72b7"
  },
  {
   "cell_type": "code",
   "execution_count": 9,
   "outputs": [
    {
     "data": {
      "text/plain": "tensor([[-0.0589,  0.0762, -0.0152, -0.0958, -0.0203,  0.0205, -0.0131, -0.1055,\n          0.1049,  0.0916]], grad_fn=<AddmmBackward0>)"
     },
     "execution_count": 9,
     "metadata": {},
     "output_type": "execute_result"
    }
   ],
   "source": [
    "model = NeuralNetwork()\n",
    "model.forward(torch.rand(1, 1, 28, 28))"
   ],
   "metadata": {
    "collapsed": false,
    "ExecuteTime": {
     "end_time": "2024-10-26T13:51:38.017997900Z",
     "start_time": "2024-10-26T13:51:37.977761100Z"
    }
   },
   "id": "3b939e55599dcd5a"
  },
  {
   "cell_type": "code",
   "execution_count": 10,
   "outputs": [],
   "source": [
    "from torchvision import datasets\n",
    "from torchvision.transforms import ToTensor\n",
    "from torch.utils.data import DataLoader"
   ],
   "metadata": {
    "collapsed": false,
    "ExecuteTime": {
     "end_time": "2024-10-26T13:52:00.250567500Z",
     "start_time": "2024-10-26T13:51:56.211609300Z"
    }
   },
   "id": "f3af0e0724e63216"
  },
  {
   "cell_type": "code",
   "execution_count": 11,
   "outputs": [],
   "source": [
    "train_data = datasets.MNIST(\n",
    "    root=\"data\",\n",
    "    train=True,\n",
    "    download=True,\n",
    "    transform=ToTensor()\n",
    ")\n",
    "\n",
    "test_data = datasets.MNIST(\n",
    "    root=\"data\",\n",
    "    train=False,\n",
    "    download=True,\n",
    "    transform=ToTensor()\n",
    ")"
   ],
   "metadata": {
    "collapsed": false,
    "ExecuteTime": {
     "end_time": "2024-10-26T13:52:08.221666700Z",
     "start_time": "2024-10-26T13:52:08.104991300Z"
    }
   },
   "id": "a3e02cb18e94b26a"
  },
  {
   "cell_type": "code",
   "execution_count": 12,
   "outputs": [],
   "source": [
    "train_dataloader = DataLoader(train_data, batch_size=64)\n",
    "test_dataloader = DataLoader(test_data, batch_size=64)"
   ],
   "metadata": {
    "collapsed": false,
    "ExecuteTime": {
     "end_time": "2024-10-26T13:52:16.384175800Z",
     "start_time": "2024-10-26T13:52:16.365866600Z"
    }
   },
   "id": "c6825aefa76a9b62"
  },
  {
   "cell_type": "code",
   "execution_count": 13,
   "outputs": [],
   "source": [
    "model = NeuralNetwork()\n",
    "optimizer = torch.optim.SGD(model.parameters(), lr=1e-2)\n"
   ],
   "metadata": {
    "collapsed": false,
    "ExecuteTime": {
     "end_time": "2024-10-26T13:52:22.734459200Z",
     "start_time": "2024-10-26T13:52:22.716207300Z"
    }
   },
   "id": "4b062465c355a0f0"
  },
  {
   "cell_type": "code",
   "execution_count": 14,
   "outputs": [
    {
     "name": "stdout",
     "output_type": "stream",
     "text": [
      "=== Epoch 1 ===\n",
      "Batch index 0, loss: 2.308888\n",
      "Batch index 100, loss: 2.251171\n",
      "Batch index 200, loss: 2.213441\n",
      "Batch index 300, loss: 2.009576\n",
      "Batch index 400, loss: 1.864805\n",
      "Batch index 500, loss: 1.554002\n",
      "Batch index 600, loss: 1.168813\n",
      "Batch index 700, loss: 1.093413\n",
      "Batch index 800, loss: 0.855344\n",
      "Batch index 900, loss: 0.700984\n",
      "=== Epoch 2 ===\n",
      "Batch index 0, loss: 0.731049\n",
      "Batch index 100, loss: 0.540947\n",
      "Batch index 200, loss: 0.549399\n",
      "Batch index 300, loss: 0.510092\n",
      "Batch index 400, loss: 0.472078\n",
      "Batch index 500, loss: 0.451793\n",
      "Batch index 600, loss: 0.338783\n",
      "Batch index 700, loss: 0.514016\n",
      "Batch index 800, loss: 0.471192\n",
      "Batch index 900, loss: 0.469256\n",
      "=== Epoch 3 ===\n",
      "Batch index 0, loss: 0.422707\n",
      "Batch index 100, loss: 0.318823\n",
      "Batch index 200, loss: 0.326432\n",
      "Batch index 300, loss: 0.400847\n",
      "Batch index 400, loss: 0.328498\n",
      "Batch index 500, loss: 0.368300\n",
      "Batch index 600, loss: 0.244292\n",
      "Batch index 700, loss: 0.434579\n",
      "Batch index 800, loss: 0.390209\n",
      "Batch index 900, loss: 0.428194\n",
      "=== Epoch 4 ===\n",
      "Batch index 0, loss: 0.322400\n",
      "Batch index 100, loss: 0.278841\n",
      "Batch index 200, loss: 0.248643\n",
      "Batch index 300, loss: 0.369908\n",
      "Batch index 400, loss: 0.277225\n",
      "Batch index 500, loss: 0.327643\n",
      "Batch index 600, loss: 0.211398\n",
      "Batch index 700, loss: 0.396600\n",
      "Batch index 800, loss: 0.342066\n",
      "Batch index 900, loss: 0.403389\n",
      "=== Epoch 5 ===\n",
      "Batch index 0, loss: 0.268292\n",
      "Batch index 100, loss: 0.263613\n",
      "Batch index 200, loss: 0.208328\n",
      "Batch index 300, loss: 0.351968\n",
      "Batch index 400, loss: 0.247089\n",
      "Batch index 500, loss: 0.300938\n",
      "Batch index 600, loss: 0.194190\n",
      "Batch index 700, loss: 0.371885\n",
      "Batch index 800, loss: 0.304579\n",
      "Batch index 900, loss: 0.381613\n",
      "=== Epoch 6 ===\n",
      "Batch index 0, loss: 0.230926\n",
      "Batch index 100, loss: 0.251429\n",
      "Batch index 200, loss: 0.183356\n",
      "Batch index 300, loss: 0.337068\n",
      "Batch index 400, loss: 0.226224\n",
      "Batch index 500, loss: 0.282409\n",
      "Batch index 600, loss: 0.181112\n",
      "Batch index 700, loss: 0.352687\n",
      "Batch index 800, loss: 0.272771\n",
      "Batch index 900, loss: 0.360905\n",
      "=== Epoch 7 ===\n",
      "Batch index 0, loss: 0.202550\n",
      "Batch index 100, loss: 0.239728\n",
      "Batch index 200, loss: 0.165015\n",
      "Batch index 300, loss: 0.322497\n",
      "Batch index 400, loss: 0.209509\n",
      "Batch index 500, loss: 0.268886\n",
      "Batch index 600, loss: 0.168837\n",
      "Batch index 700, loss: 0.336138\n",
      "Batch index 800, loss: 0.245341\n",
      "Batch index 900, loss: 0.342298\n",
      "=== Epoch 8 ===\n",
      "Batch index 0, loss: 0.179763\n",
      "Batch index 100, loss: 0.228105\n",
      "Batch index 200, loss: 0.150618\n",
      "Batch index 300, loss: 0.308552\n",
      "Batch index 400, loss: 0.195548\n",
      "Batch index 500, loss: 0.258451\n",
      "Batch index 600, loss: 0.156916\n",
      "Batch index 700, loss: 0.320009\n",
      "Batch index 800, loss: 0.221741\n",
      "Batch index 900, loss: 0.324904\n",
      "=== Epoch 9 ===\n",
      "Batch index 0, loss: 0.161512\n",
      "Batch index 100, loss: 0.216622\n",
      "Batch index 200, loss: 0.138570\n",
      "Batch index 300, loss: 0.296977\n",
      "Batch index 400, loss: 0.183391\n",
      "Batch index 500, loss: 0.250140\n",
      "Batch index 600, loss: 0.145406\n",
      "Batch index 700, loss: 0.304801\n",
      "Batch index 800, loss: 0.202953\n",
      "Batch index 900, loss: 0.308564\n",
      "=== Epoch 10 ===\n",
      "Batch index 0, loss: 0.146545\n",
      "Batch index 100, loss: 0.206523\n",
      "Batch index 200, loss: 0.128385\n",
      "Batch index 300, loss: 0.285976\n",
      "Batch index 400, loss: 0.172449\n",
      "Batch index 500, loss: 0.242132\n",
      "Batch index 600, loss: 0.134670\n",
      "Batch index 700, loss: 0.290958\n",
      "Batch index 800, loss: 0.188513\n",
      "Batch index 900, loss: 0.293333\n"
     ]
    }
   ],
   "source": [
    "NUM_EPOCHS = 10\n",
    "device = \"cuda\" if torch.cuda.is_available() else \"cpu\" # decidem device-ul pe care sa il folosim\n",
    "model = model.to(device)\n",
    "loss_function = nn.CrossEntropyLoss() # functia ce trebuie optimizata, cross entropia\n",
    "\n",
    "model.train(True)\n",
    "for i in range(NUM_EPOCHS):\n",
    "    print(f\"=== Epoch {i+1} ===\")\n",
    "    for batch_index, (image_batch, labels_batch) in enumerate(train_dataloader): # iteram prin batchuri\n",
    "        \n",
    "        image_batch = image_batch.to(device)\n",
    "        labels_batch = labels_batch.to(device) #(batch_size, )\n",
    "\n",
    "        pred = model(image_batch) # procesam imaginile prin retea\n",
    "\n",
    "        loss = loss_function(pred, labels_batch) # determinam functia de pieredere folosind outputul si label-urile reale ale exemplelor de antrenare\n",
    "        \n",
    "        # Backpropagation\n",
    "        optimizer.zero_grad()\n",
    "        loss.backward() # backpropagation\n",
    "        optimizer.step() # optimizam parametrii retelei\n",
    "        if batch_index % 100 == 0:\n",
    "            loss = loss.item()\n",
    "            print(f\"Batch index {batch_index }, loss: {loss:>7f}\")"
   ],
   "metadata": {
    "collapsed": false,
    "ExecuteTime": {
     "end_time": "2024-10-26T13:59:57.773472900Z",
     "start_time": "2024-10-26T13:57:11.333505900Z"
    }
   },
   "id": "c535d5f26db9627"
  },
  {
   "cell_type": "code",
   "execution_count": 15,
   "outputs": [
    {
     "name": "stdout",
     "output_type": "stream",
     "text": [
      "Accuracy: 94.0%, Loss: 0.003248 \n"
     ]
    }
   ],
   "source": [
    "correct = 0.\n",
    "test_loss = 0.\n",
    "size = len(test_dataloader.dataset)\n",
    "model.to(device)\n",
    "model.eval()\n",
    "\n",
    "with torch.no_grad():\n",
    "    for image_batch, labels_batch in test_dataloader: # iteram prin datele de test\n",
    "        image_batch = image_batch.to(device)\n",
    "        labels_batch = labels_batch.to(device)\n",
    "        pred = model(image_batch) # procesam imaginile folosind reteaua antrenata anterior\n",
    "        test_loss += loss_function(pred, labels_batch).item()\n",
    "        correct += (pred.argmax(1) == labels_batch).type(torch.float).sum().item() \n",
    "\n",
    "correct /= size\n",
    "test_loss /= size\n",
    "print(f\"Accuracy: {(100*correct):>0.1f}%, Loss: {test_loss:>8f} \\n\")"
   ],
   "metadata": {
    "collapsed": false,
    "ExecuteTime": {
     "end_time": "2024-10-26T14:00:52.527041300Z",
     "start_time": "2024-10-26T14:00:48.021383200Z"
    }
   },
   "id": "e60206e80d79e97f"
  },
  {
   "cell_type": "markdown",
   "source": [
    "### Configuratii diferite"
   ],
   "metadata": {
    "collapsed": false
   },
   "id": "1d5b79fe35394e4c"
  },
  {
   "cell_type": "code",
   "execution_count": 22,
   "outputs": [
    {
     "name": "stdout",
     "output_type": "stream",
     "text": [
      "=== Epoch 1 ===\n",
      "Average loss for epoch 1: 2.1595\n",
      "=== Epoch 2 ===\n",
      "Average loss for epoch 2: 2.0224\n",
      "=== Epoch 3 ===\n",
      "Average loss for epoch 3: 1.9642\n",
      "=== Epoch 4 ===\n",
      "Average loss for epoch 4: 1.9304\n",
      "=== Epoch 5 ===\n",
      "Average loss for epoch 5: 1.9059\n",
      "Accuracy: 21.9%, Loss: 0.029668 \n"
     ]
    }
   ],
   "source": [
    "class NeuralNetwork_a(nn.Module):\n",
    "    \n",
    "    def __init__(self):\n",
    "        super().__init__()\n",
    "        self.flatten = nn.Flatten()\n",
    "        self.first_layer = nn.Linear(28 * 28, 1)\n",
    "        self.output_layer = nn.Linear(1, 10)\n",
    "        \n",
    "    def forward(self, x):\n",
    "        x = self.flatten(x)\n",
    "        x = F.tanh(self.first_layer(x))\n",
    "        x = self.output_layer(x)\n",
    "        return x\n",
    "    \n",
    "model = NeuralNetwork_a()\n",
    "optimizer = torch.optim.SGD(model.parameters(), lr=1e-2)\n",
    "\n",
    "NUM_EPOCHS = 5\n",
    "device = \"cuda\" if torch.cuda.is_available() else \"cpu\" \n",
    "model = model.to(device)\n",
    "loss_function = nn.CrossEntropyLoss()\n",
    "\n",
    "avg_loss_epoch_a = []\n",
    "\n",
    "# train\n",
    "model.train(True)\n",
    "for epoch in range(NUM_EPOCHS):\n",
    "    \n",
    "    epoch_loss = 0.0\n",
    "    num_batches = 0\n",
    "    \n",
    "    print(f\"=== Epoch {epoch+1} ===\")\n",
    "    for batch_index, (image_batch, labels_batch) in enumerate(train_dataloader): \n",
    "        \n",
    "        image_batch = image_batch.to(device)\n",
    "        labels_batch = labels_batch.to(device) \n",
    "\n",
    "        pred = model(image_batch) \n",
    "\n",
    "        loss = loss_function(pred, labels_batch) \n",
    "        \n",
    "        \n",
    "        optimizer.zero_grad()\n",
    "        loss.backward() \n",
    "        optimizer.step() \n",
    "        \n",
    "        epoch_loss += loss.item()\n",
    "        num_batches += 1\n",
    "\n",
    "    avg_epoch_loss = epoch_loss / num_batches\n",
    "    print(f\"Average loss for epoch {epoch+1}: {avg_epoch_loss:.4f}\")\n",
    "    avg_loss_epoch_a.append(avg_epoch_loss)\n",
    "\n",
    "# test\n",
    "correct = 0.\n",
    "test_loss = 0.\n",
    "size = len(test_dataloader.dataset)\n",
    "model.to(device)\n",
    "model.eval()\n",
    "\n",
    "with torch.no_grad():\n",
    "    for image_batch, labels_batch in test_dataloader: \n",
    "        image_batch = image_batch.to(device)\n",
    "        labels_batch = labels_batch.to(device)\n",
    "        pred = model(image_batch) \n",
    "        test_loss += loss_function(pred, labels_batch).item()\n",
    "        correct += (pred.argmax(1) == labels_batch).type(torch.float).sum().item() \n",
    "\n",
    "correct /= size\n",
    "test_loss /= size\n",
    "print(f\"Accuracy: {(100*correct):>0.1f}%, Loss: {test_loss:>8f} \\n\")\n"
   ],
   "metadata": {
    "collapsed": false,
    "ExecuteTime": {
     "end_time": "2024-10-26T14:43:59.008880300Z",
     "start_time": "2024-10-26T14:42:27.127958500Z"
    }
   },
   "id": "e19922ba095176d8"
  },
  {
   "cell_type": "code",
   "execution_count": 23,
   "outputs": [
    {
     "name": "stdout",
     "output_type": "stream",
     "text": [
      "=== Epoch 1 ===\n",
      "Average loss for epoch 1: 1.5409\n",
      "=== Epoch 2 ===\n",
      "Average loss for epoch 2: 0.8253\n",
      "=== Epoch 3 ===\n",
      "Average loss for epoch 3: 0.5988\n",
      "=== Epoch 4 ===\n",
      "Average loss for epoch 4: 0.5001\n",
      "=== Epoch 5 ===\n",
      "Average loss for epoch 5: 0.4458\n",
      "Accuracy: 89.3%, Loss: 0.006541 \n"
     ]
    }
   ],
   "source": [
    "class NeuralNetwork_b(nn.Module):\n",
    "    \n",
    "    def __init__(self):\n",
    "        super().__init__()\n",
    "        self.flatten = nn.Flatten()\n",
    "        self.first_layer = nn.Linear(28 * 28, 10)\n",
    "        self.output_layer = nn.Linear(10, 10)\n",
    "        \n",
    "    def forward(self, x):\n",
    "        x = self.flatten(x)\n",
    "        x = F.tanh(self.first_layer(x))\n",
    "        x = self.output_layer(x)\n",
    "        return x\n",
    "    \n",
    "model = NeuralNetwork_b()\n",
    "optimizer = torch.optim.SGD(model.parameters(), lr=1e-2)\n",
    "\n",
    "NUM_EPOCHS = 5\n",
    "device = \"cuda\" if torch.cuda.is_available() else \"cpu\" \n",
    "model = model.to(device)\n",
    "loss_function = nn.CrossEntropyLoss()\n",
    "\n",
    "avg_loss_epoch_b = []\n",
    "\n",
    "# train\n",
    "model.train(True)\n",
    "for epoch in range(NUM_EPOCHS):\n",
    "    \n",
    "    epoch_loss = 0.0\n",
    "    num_batches = 0\n",
    "    \n",
    "    print(f\"=== Epoch {epoch+1} ===\")\n",
    "    for batch_index, (image_batch, labels_batch) in enumerate(train_dataloader): \n",
    "        \n",
    "        image_batch = image_batch.to(device)\n",
    "        labels_batch = labels_batch.to(device) \n",
    "\n",
    "        pred = model(image_batch) \n",
    "\n",
    "        loss = loss_function(pred, labels_batch) \n",
    "        \n",
    "        \n",
    "        optimizer.zero_grad()\n",
    "        loss.backward() \n",
    "        optimizer.step() \n",
    "        \n",
    "        epoch_loss += loss.item()\n",
    "        num_batches += 1\n",
    "\n",
    "    avg_epoch_loss = epoch_loss / num_batches\n",
    "    print(f\"Average loss for epoch {epoch+1}: {avg_epoch_loss:.4f}\")\n",
    "    avg_loss_epoch_b.append(avg_epoch_loss)\n",
    "\n",
    "# test\n",
    "correct = 0.\n",
    "test_loss = 0.\n",
    "size = len(test_dataloader.dataset)\n",
    "model.to(device)\n",
    "model.eval()\n",
    "\n",
    "with torch.no_grad():\n",
    "    for image_batch, labels_batch in test_dataloader: \n",
    "        image_batch = image_batch.to(device)\n",
    "        labels_batch = labels_batch.to(device)\n",
    "        pred = model(image_batch) \n",
    "        test_loss += loss_function(pred, labels_batch).item()\n",
    "        correct += (pred.argmax(1) == labels_batch).type(torch.float).sum().item() \n",
    "\n",
    "correct /= size\n",
    "test_loss /= size\n",
    "print(f\"Accuracy: {(100*correct):>0.1f}%, Loss: {test_loss:>8f} \\n\")\n"
   ],
   "metadata": {
    "collapsed": false,
    "ExecuteTime": {
     "end_time": "2024-10-26T14:45:30.125360Z",
     "start_time": "2024-10-26T14:43:59.015481400Z"
    }
   },
   "id": "522e5a06d94ee784"
  },
  {
   "cell_type": "code",
   "execution_count": 24,
   "outputs": [
    {
     "name": "stdout",
     "output_type": "stream",
     "text": [
      "=== Epoch 1 ===\n",
      "Average loss for epoch 1: 2.3102\n",
      "=== Epoch 2 ===\n",
      "Average loss for epoch 2: 2.3066\n",
      "=== Epoch 3 ===\n",
      "Average loss for epoch 3: 2.3030\n",
      "=== Epoch 4 ===\n",
      "Average loss for epoch 4: 2.2995\n",
      "=== Epoch 5 ===\n",
      "Average loss for epoch 5: 2.2959\n",
      "Accuracy: 13.2%, Loss: 0.035953 \n"
     ]
    }
   ],
   "source": [
    "class NeuralNetwork_c(nn.Module):\n",
    "    \n",
    "    def __init__(self):\n",
    "        super().__init__()\n",
    "        self.flatten = nn.Flatten()\n",
    "        self.first_layer = nn.Linear(28 * 28, 10)\n",
    "        self.output_layer = nn.Linear(10, 10)\n",
    "        \n",
    "    def forward(self, x):\n",
    "        x = self.flatten(x)\n",
    "        x = F.tanh(self.first_layer(x))\n",
    "        x = self.output_layer(x)\n",
    "        return x\n",
    "    \n",
    "model = NeuralNetwork_c()\n",
    "optimizer = torch.optim.SGD(model.parameters(), lr=1e-5)\n",
    "\n",
    "NUM_EPOCHS = 5\n",
    "device = \"cuda\" if torch.cuda.is_available() else \"cpu\" \n",
    "model = model.to(device)\n",
    "loss_function = nn.CrossEntropyLoss()\n",
    "\n",
    "avg_loss_epoch_c = []\n",
    "\n",
    "# train\n",
    "model.train(True)\n",
    "for epoch in range(NUM_EPOCHS):\n",
    "    \n",
    "    epoch_loss = 0.0\n",
    "    num_batches = 0\n",
    "    \n",
    "    print(f\"=== Epoch {epoch+1} ===\")\n",
    "    for batch_index, (image_batch, labels_batch) in enumerate(train_dataloader): \n",
    "        \n",
    "        image_batch = image_batch.to(device)\n",
    "        labels_batch = labels_batch.to(device) \n",
    "\n",
    "        pred = model(image_batch) \n",
    "\n",
    "        loss = loss_function(pred, labels_batch) \n",
    "        \n",
    "        \n",
    "        optimizer.zero_grad()\n",
    "        loss.backward() \n",
    "        optimizer.step() \n",
    "        \n",
    "        epoch_loss += loss.item()\n",
    "        num_batches += 1\n",
    "\n",
    "    avg_epoch_loss = epoch_loss / num_batches\n",
    "    print(f\"Average loss for epoch {epoch+1}: {avg_epoch_loss:.4f}\")\n",
    "    avg_loss_epoch_c.append(avg_epoch_loss)\n",
    "\n",
    "# test\n",
    "correct = 0.\n",
    "test_loss = 0.\n",
    "size = len(test_dataloader.dataset)\n",
    "model.to(device)\n",
    "model.eval()\n",
    "\n",
    "with torch.no_grad():\n",
    "    for image_batch, labels_batch in test_dataloader: \n",
    "        image_batch = image_batch.to(device)\n",
    "        labels_batch = labels_batch.to(device)\n",
    "        pred = model(image_batch) \n",
    "        test_loss += loss_function(pred, labels_batch).item()\n",
    "        correct += (pred.argmax(1) == labels_batch).type(torch.float).sum().item() \n",
    "\n",
    "correct /= size\n",
    "test_loss /= size\n",
    "print(f\"Accuracy: {(100*correct):>0.1f}%, Loss: {test_loss:>8f} \\n\")\n"
   ],
   "metadata": {
    "collapsed": false,
    "ExecuteTime": {
     "end_time": "2024-10-26T14:46:58.886374400Z",
     "start_time": "2024-10-26T14:45:30.129361400Z"
    }
   },
   "id": "4659b38b79ec0452"
  },
  {
   "cell_type": "code",
   "execution_count": 25,
   "outputs": [
    {
     "name": "stdout",
     "output_type": "stream",
     "text": [
      "=== Epoch 1 ===\n",
      "Average loss for epoch 1: 45.3811\n",
      "=== Epoch 2 ===\n",
      "Average loss for epoch 2: 44.8026\n",
      "=== Epoch 3 ===\n",
      "Average loss for epoch 3: 45.5644\n",
      "=== Epoch 4 ===\n",
      "Average loss for epoch 4: 46.1320\n",
      "=== Epoch 5 ===\n",
      "Average loss for epoch 5: 45.6051\n",
      "Accuracy: 10.3%, Loss: 0.542936 \n"
     ]
    }
   ],
   "source": [
    "class NeuralNetwork_d(nn.Module):\n",
    "    \n",
    "    def __init__(self):\n",
    "        super().__init__()\n",
    "        self.flatten = nn.Flatten()\n",
    "        self.first_layer = nn.Linear(28 * 28, 10)\n",
    "        self.output_layer = nn.Linear(10, 10)\n",
    "        \n",
    "    def forward(self, x):\n",
    "        x = self.flatten(x)\n",
    "        x = F.tanh(self.first_layer(x))\n",
    "        x = self.output_layer(x)\n",
    "        return x\n",
    "    \n",
    "model = NeuralNetwork_d()\n",
    "optimizer = torch.optim.SGD(model.parameters(), lr=10)\n",
    "\n",
    "NUM_EPOCHS = 5\n",
    "device = \"cuda\" if torch.cuda.is_available() else \"cpu\" \n",
    "model = model.to(device)\n",
    "loss_function = nn.CrossEntropyLoss()\n",
    "\n",
    "avg_loss_epoch_d = []\n",
    "\n",
    "# train\n",
    "model.train(True)\n",
    "for epoch in range(NUM_EPOCHS):\n",
    "    \n",
    "    epoch_loss = 0.0\n",
    "    num_batches = 0\n",
    "    \n",
    "    print(f\"=== Epoch {epoch+1} ===\")\n",
    "    for batch_index, (image_batch, labels_batch) in enumerate(train_dataloader): \n",
    "        \n",
    "        image_batch = image_batch.to(device)\n",
    "        labels_batch = labels_batch.to(device) \n",
    "\n",
    "        pred = model(image_batch) \n",
    "\n",
    "        loss = loss_function(pred, labels_batch) \n",
    "        \n",
    "        \n",
    "        optimizer.zero_grad()\n",
    "        loss.backward() \n",
    "        optimizer.step() \n",
    "        \n",
    "        epoch_loss += loss.item()\n",
    "        num_batches += 1\n",
    "\n",
    "    avg_epoch_loss = epoch_loss / num_batches\n",
    "    print(f\"Average loss for epoch {epoch+1}: {avg_epoch_loss:.4f}\")\n",
    "    avg_loss_epoch_d.append(avg_epoch_loss)\n",
    "\n",
    "# test\n",
    "correct = 0.\n",
    "test_loss = 0.\n",
    "size = len(test_dataloader.dataset)\n",
    "model.to(device)\n",
    "model.eval()\n",
    "\n",
    "with torch.no_grad():\n",
    "    for image_batch, labels_batch in test_dataloader: \n",
    "        image_batch = image_batch.to(device)\n",
    "        labels_batch = labels_batch.to(device)\n",
    "        pred = model(image_batch) \n",
    "        test_loss += loss_function(pred, labels_batch).item()\n",
    "        correct += (pred.argmax(1) == labels_batch).type(torch.float).sum().item() \n",
    "\n",
    "correct /= size\n",
    "test_loss /= size\n",
    "print(f\"Accuracy: {(100*correct):>0.1f}%, Loss: {test_loss:>8f} \\n\")\n"
   ],
   "metadata": {
    "collapsed": false,
    "ExecuteTime": {
     "end_time": "2024-10-26T14:48:25.060009900Z",
     "start_time": "2024-10-26T14:46:58.895398400Z"
    }
   },
   "id": "45a85de34ab1b2c1"
  },
  {
   "cell_type": "code",
   "execution_count": 27,
   "outputs": [
    {
     "name": "stdout",
     "output_type": "stream",
     "text": [
      "=== Epoch 1 ===\n",
      "Average loss for epoch 1: 1.8489\n",
      "=== Epoch 2 ===\n",
      "Average loss for epoch 2: 1.0854\n",
      "=== Epoch 3 ===\n",
      "Average loss for epoch 3: 0.7514\n",
      "=== Epoch 4 ===\n",
      "Average loss for epoch 4: 0.5992\n",
      "=== Epoch 5 ===\n",
      "Average loss for epoch 5: 0.5138\n",
      "Accuracy: 88.5%, Loss: 0.007388 \n"
     ]
    }
   ],
   "source": [
    "class NeuralNetwork_e(nn.Module):\n",
    "    \n",
    "    def __init__(self):\n",
    "        super().__init__()\n",
    "        self.flatten = nn.Flatten()\n",
    "        self.first_layer = nn.Linear(28 * 28, 10)\n",
    "        self.second_layer = nn.Linear(10, 10)\n",
    "        self.output_layer = nn.Linear(10, 10)\n",
    "        \n",
    "    def forward(self, x):\n",
    "        x = self.flatten(x)\n",
    "        x = F.tanh(self.first_layer(x))\n",
    "        x = F.tanh(self.second_layer(x))\n",
    "        x = self.output_layer(x)\n",
    "        return x\n",
    "    \n",
    "model = NeuralNetwork_e()\n",
    "optimizer = torch.optim.SGD(model.parameters(), lr=1e-2)\n",
    "\n",
    "NUM_EPOCHS = 5\n",
    "device = \"cuda\" if torch.cuda.is_available() else \"cpu\" \n",
    "model = model.to(device)\n",
    "loss_function = nn.CrossEntropyLoss()\n",
    "\n",
    "avg_loss_epoch_e = []\n",
    "\n",
    "# train\n",
    "model.train(True)\n",
    "for epoch in range(NUM_EPOCHS):\n",
    "    \n",
    "    epoch_loss = 0.0\n",
    "    num_batches = 0\n",
    "    \n",
    "    print(f\"=== Epoch {epoch+1} ===\")\n",
    "    for batch_index, (image_batch, labels_batch) in enumerate(train_dataloader): \n",
    "        \n",
    "        image_batch = image_batch.to(device)\n",
    "        labels_batch = labels_batch.to(device) \n",
    "\n",
    "        pred = model(image_batch) \n",
    "\n",
    "        loss = loss_function(pred, labels_batch) \n",
    "        \n",
    "        \n",
    "        optimizer.zero_grad()\n",
    "        loss.backward() \n",
    "        optimizer.step() \n",
    "        \n",
    "        epoch_loss += loss.item()\n",
    "        num_batches += 1\n",
    "\n",
    "    avg_epoch_loss = epoch_loss / num_batches\n",
    "    print(f\"Average loss for epoch {epoch+1}: {avg_epoch_loss:.4f}\")\n",
    "    avg_loss_epoch_e.append(avg_epoch_loss)\n",
    "\n",
    "# test\n",
    "correct = 0.\n",
    "test_loss = 0.\n",
    "size = len(test_dataloader.dataset)\n",
    "model.to(device)\n",
    "model.eval()\n",
    "\n",
    "with torch.no_grad():\n",
    "    for image_batch, labels_batch in test_dataloader: \n",
    "        image_batch = image_batch.to(device)\n",
    "        labels_batch = labels_batch.to(device)\n",
    "        pred = model(image_batch) \n",
    "        test_loss += loss_function(pred, labels_batch).item()\n",
    "        correct += (pred.argmax(1) == labels_batch).type(torch.float).sum().item() \n",
    "\n",
    "correct /= size\n",
    "test_loss /= size\n",
    "print(f\"Accuracy: {(100*correct):>0.1f}%, Loss: {test_loss:>8f} \\n\")\n"
   ],
   "metadata": {
    "collapsed": false,
    "ExecuteTime": {
     "end_time": "2024-10-26T14:51:19.399433600Z",
     "start_time": "2024-10-26T14:49:50.306676900Z"
    }
   },
   "id": "93c82c8bbd6971c7"
  },
  {
   "cell_type": "code",
   "execution_count": 29,
   "outputs": [
    {
     "name": "stdout",
     "output_type": "stream",
     "text": [
      "=== Epoch 1 ===\n",
      "Average loss for epoch 1: 1.8319\n",
      "=== Epoch 2 ===\n",
      "Average loss for epoch 2: 0.8356\n",
      "=== Epoch 3 ===\n",
      "Average loss for epoch 3: 0.5548\n",
      "=== Epoch 4 ===\n",
      "Average loss for epoch 4: 0.4530\n",
      "=== Epoch 5 ===\n",
      "Average loss for epoch 5: 0.4136\n",
      "Accuracy: 88.5%, Loss: 0.006182 \n"
     ]
    }
   ],
   "source": [
    "class NeuralNetwork_f(nn.Module):\n",
    "    \n",
    "    def __init__(self):\n",
    "        super().__init__()\n",
    "        self.flatten = nn.Flatten()\n",
    "        self.first_layer = nn.Linear(28 * 28, 10)\n",
    "        self.second_layer = nn.Linear(10, 10)\n",
    "        self.output_layer = nn.Linear(10, 10)\n",
    "        \n",
    "    def forward(self, x):\n",
    "        x = self.flatten(x)\n",
    "        x = F.relu(self.first_layer(x))\n",
    "        x = F.relu(self.second_layer(x))\n",
    "        x = self.output_layer(x)\n",
    "        return x\n",
    "    \n",
    "model = NeuralNetwork_f()\n",
    "optimizer = torch.optim.SGD(model.parameters(), lr=1e-2)\n",
    "\n",
    "NUM_EPOCHS = 5\n",
    "device = \"cuda\" if torch.cuda.is_available() else \"cpu\" \n",
    "model = model.to(device)\n",
    "loss_function = nn.CrossEntropyLoss()\n",
    "\n",
    "avg_loss_epoch_f = []\n",
    "\n",
    "# train\n",
    "model.train(True)\n",
    "for epoch in range(NUM_EPOCHS):\n",
    "    \n",
    "    epoch_loss = 0.0\n",
    "    num_batches = 0\n",
    "    \n",
    "    print(f\"=== Epoch {epoch+1} ===\")\n",
    "    for batch_index, (image_batch, labels_batch) in enumerate(train_dataloader): \n",
    "        \n",
    "        image_batch = image_batch.to(device)\n",
    "        labels_batch = labels_batch.to(device) \n",
    "\n",
    "        pred = model(image_batch) \n",
    "\n",
    "        loss = loss_function(pred, labels_batch) \n",
    "        \n",
    "        \n",
    "        optimizer.zero_grad()\n",
    "        loss.backward() \n",
    "        optimizer.step() \n",
    "        \n",
    "        epoch_loss += loss.item()\n",
    "        num_batches += 1\n",
    "\n",
    "    avg_epoch_loss = epoch_loss / num_batches\n",
    "    print(f\"Average loss for epoch {epoch+1}: {avg_epoch_loss:.4f}\")\n",
    "    avg_loss_epoch_f.append(avg_epoch_loss)\n",
    "\n",
    "# test\n",
    "correct = 0.\n",
    "test_loss = 0.\n",
    "size = len(test_dataloader.dataset)\n",
    "model.to(device)\n",
    "model.eval()\n",
    "\n",
    "with torch.no_grad():\n",
    "    for image_batch, labels_batch in test_dataloader: \n",
    "        image_batch = image_batch.to(device)\n",
    "        labels_batch = labels_batch.to(device)\n",
    "        pred = model(image_batch) \n",
    "        test_loss += loss_function(pred, labels_batch).item()\n",
    "        correct += (pred.argmax(1) == labels_batch).type(torch.float).sum().item() \n",
    "\n",
    "correct /= size\n",
    "test_loss /= size\n",
    "print(f\"Accuracy: {(100*correct):>0.1f}%, Loss: {test_loss:>8f} \\n\")\n"
   ],
   "metadata": {
    "collapsed": false,
    "ExecuteTime": {
     "end_time": "2024-10-26T14:54:13.919418200Z",
     "start_time": "2024-10-26T14:52:52.090526600Z"
    }
   },
   "id": "ec4a321d8877bdde"
  },
  {
   "cell_type": "code",
   "execution_count": 36,
   "outputs": [
    {
     "name": "stdout",
     "output_type": "stream",
     "text": [
      "=== Epoch 1 ===\n",
      "Average loss for epoch 1: 1.7543\n",
      "=== Epoch 2 ===\n",
      "Average loss for epoch 2: 0.5590\n",
      "=== Epoch 3 ===\n",
      "Average loss for epoch 3: 0.3939\n",
      "=== Epoch 4 ===\n",
      "Average loss for epoch 4: 0.3442\n",
      "=== Epoch 5 ===\n",
      "Average loss for epoch 5: 0.3145\n",
      "Accuracy: 91.4%, Loss: 0.004617 \n"
     ]
    }
   ],
   "source": [
    "class NeuralNetwork_g(nn.Module):\n",
    "    \n",
    "    def __init__(self):\n",
    "        super().__init__()\n",
    "        self.flatten = nn.Flatten()\n",
    "        self.first_layer = nn.Linear(28 * 28, 100)\n",
    "        self.second_layer = nn.Linear(100, 100)\n",
    "        self.output_layer = nn.Linear(100, 10)\n",
    "        \n",
    "    def forward(self, x):\n",
    "        x = self.flatten(x)\n",
    "        x = F.relu(self.first_layer(x))\n",
    "        x = F.relu(self.second_layer(x))\n",
    "        x = self.output_layer(x)\n",
    "        return x\n",
    "    \n",
    "model = NeuralNetwork_g()\n",
    "optimizer = torch.optim.SGD(model.parameters(), lr=1e-2)\n",
    "\n",
    "NUM_EPOCHS = 5\n",
    "device = \"cuda\" if torch.cuda.is_available() else \"cpu\" \n",
    "model = model.to(device)\n",
    "loss_function = nn.CrossEntropyLoss()\n",
    "\n",
    "avg_loss_epoch_g = []\n",
    "\n",
    "# train\n",
    "model.train(True)\n",
    "for epoch in range(NUM_EPOCHS):\n",
    "    \n",
    "    epoch_loss = 0.0\n",
    "    num_batches = 0\n",
    "    \n",
    "    print(f\"=== Epoch {epoch+1} ===\")\n",
    "    for batch_index, (image_batch, labels_batch) in enumerate(train_dataloader): \n",
    "        \n",
    "        image_batch = image_batch.to(device)\n",
    "        labels_batch = labels_batch.to(device) \n",
    "\n",
    "        pred = model(image_batch) \n",
    "\n",
    "        loss = loss_function(pred, labels_batch) \n",
    "        \n",
    "        \n",
    "        optimizer.zero_grad()\n",
    "        loss.backward() \n",
    "        optimizer.step() \n",
    "        \n",
    "        epoch_loss += loss.item()\n",
    "        num_batches += 1\n",
    "\n",
    "    avg_epoch_loss = epoch_loss / num_batches\n",
    "    print(f\"Average loss for epoch {epoch+1}: {avg_epoch_loss:.4f}\")\n",
    "    avg_loss_epoch_g.append(avg_epoch_loss)\n",
    "\n",
    "# test\n",
    "correct = 0.\n",
    "test_loss = 0.\n",
    "size = len(test_dataloader.dataset)\n",
    "model.to(device)\n",
    "model.eval()\n",
    "\n",
    "with torch.no_grad():\n",
    "    for image_batch, labels_batch in test_dataloader: \n",
    "        image_batch = image_batch.to(device)\n",
    "        labels_batch = labels_batch.to(device)\n",
    "        pred = model(image_batch) \n",
    "        test_loss += loss_function(pred, labels_batch).item()\n",
    "        correct += (pred.argmax(1) == labels_batch).type(torch.float).sum().item() \n",
    "\n",
    "correct /= size\n",
    "test_loss /= size\n",
    "print(f\"Accuracy: {(100*correct):>0.1f}%, Loss: {test_loss:>8f} \\n\")\n"
   ],
   "metadata": {
    "collapsed": false,
    "ExecuteTime": {
     "end_time": "2024-10-26T14:59:06.692926800Z",
     "start_time": "2024-10-26T14:57:30.052674900Z"
    }
   },
   "id": "a9cff597639f9374"
  },
  {
   "cell_type": "code",
   "execution_count": 31,
   "outputs": [
    {
     "name": "stdout",
     "output_type": "stream",
     "text": [
      "=== Epoch 1 ===\n",
      "Average loss for epoch 1: 0.5467\n",
      "=== Epoch 2 ===\n",
      "Average loss for epoch 2: 0.2044\n",
      "=== Epoch 3 ===\n",
      "Average loss for epoch 3: 0.1452\n",
      "=== Epoch 4 ===\n",
      "Average loss for epoch 4: 0.1116\n",
      "=== Epoch 5 ===\n",
      "Average loss for epoch 5: 0.0897\n",
      "Accuracy: 96.4%, Loss: 0.001724 \n"
     ]
    }
   ],
   "source": [
    "class NeuralNetwork_h(nn.Module):\n",
    "    \n",
    "    def __init__(self):\n",
    "        super().__init__()\n",
    "        self.flatten = nn.Flatten()\n",
    "        self.first_layer = nn.Linear(28 * 28, 100)\n",
    "        self.second_layer = nn.Linear(100, 100)\n",
    "        self.output_layer = nn.Linear(100, 10)\n",
    "        \n",
    "    def forward(self, x):\n",
    "        x = self.flatten(x)\n",
    "        x = F.relu(self.first_layer(x))\n",
    "        x = F.relu(self.second_layer(x))\n",
    "        x = self.output_layer(x)\n",
    "        return x\n",
    "    \n",
    "model = NeuralNetwork_h()\n",
    "optimizer = torch.optim.SGD(model.parameters(), lr=1e-2, momentum=0.9)\n",
    "\n",
    "NUM_EPOCHS = 5\n",
    "device = \"cuda\" if torch.cuda.is_available() else \"cpu\" \n",
    "model = model.to(device)\n",
    "loss_function = nn.CrossEntropyLoss()\n",
    "\n",
    "avg_loss_epoch_h = []\n",
    "\n",
    "# train\n",
    "model.train(True)\n",
    "for epoch in range(NUM_EPOCHS):\n",
    "    \n",
    "    epoch_loss = 0.0\n",
    "    num_batches = 0\n",
    "    \n",
    "    print(f\"=== Epoch {epoch+1} ===\")\n",
    "    for batch_index, (image_batch, labels_batch) in enumerate(train_dataloader): \n",
    "        \n",
    "        image_batch = image_batch.to(device)\n",
    "        labels_batch = labels_batch.to(device) \n",
    "\n",
    "        pred = model(image_batch) \n",
    "\n",
    "        loss = loss_function(pred, labels_batch) \n",
    "        \n",
    "        \n",
    "        optimizer.zero_grad()\n",
    "        loss.backward() \n",
    "        optimizer.step() \n",
    "        \n",
    "        epoch_loss += loss.item()\n",
    "        num_batches += 1\n",
    "\n",
    "    avg_epoch_loss = epoch_loss / num_batches\n",
    "    print(f\"Average loss for epoch {epoch+1}: {avg_epoch_loss:.4f}\")\n",
    "    avg_loss_epoch_h.append(avg_epoch_loss)\n",
    "\n",
    "# test\n",
    "correct = 0.\n",
    "test_loss = 0.\n",
    "size = len(test_dataloader.dataset)\n",
    "model.to(device)\n",
    "model.eval()\n",
    "\n",
    "with torch.no_grad():\n",
    "    for image_batch, labels_batch in test_dataloader: \n",
    "        image_batch = image_batch.to(device)\n",
    "        labels_batch = labels_batch.to(device)\n",
    "        pred = model(image_batch) \n",
    "        test_loss += loss_function(pred, labels_batch).item()\n",
    "        correct += (pred.argmax(1) == labels_batch).type(torch.float).sum().item() \n",
    "\n",
    "correct /= size\n",
    "test_loss /= size\n",
    "print(f\"Accuracy: {(100*correct):>0.1f}%, Loss: {test_loss:>8f} \\n\")\n"
   ],
   "metadata": {
    "collapsed": false,
    "ExecuteTime": {
     "end_time": "2024-10-26T14:57:06.337720Z",
     "start_time": "2024-10-26T14:55:39.046341800Z"
    }
   },
   "id": "806efac538e1bf5f"
  },
  {
   "cell_type": "code",
   "execution_count": 60,
   "outputs": [
    {
     "data": {
      "text/plain": "<Figure size 1400x800 with 1 Axes>",
      "image/png": "[encoded data removed]"
     },
     "metadata": {},
     "output_type": "display_data"
    }
   ],
   "source": [
    "import matplotlib.pyplot as plt\n",
    "import numpy as np\n",
    "\n",
    "epochs = np.linspace(start=1, stop=5, num=5)\n",
    "\n",
    "plt.figure(figsize=(14, 8))\n",
    "\n",
    "plt.plot(epochs, avg_loss_epoch_a, label = 'a')\n",
    "plt.plot(epochs, avg_loss_epoch_b, label='b')\n",
    "plt.plot(epochs, avg_loss_epoch_c, label='c')\n",
    "# plt.plot(epochs, avg_loss_epoch_d, label='d') # comentat ca are avg loss 40\n",
    "plt.plot(epochs, avg_loss_epoch_e, label='e')\n",
    "plt.plot(epochs, avg_loss_epoch_f, label='f')\n",
    "plt.plot(epochs, avg_loss_epoch_g, label='g')\n",
    "plt.plot(epochs, avg_loss_epoch_h, label='h')\n",
    "\n",
    "\n",
    "plt.legend()\n",
    "plt.title(\"Average loss over epochs\")\n",
    "plt.xlabel(\"Epoch num\")\n",
    "plt.ylabel(\"Average loss\")\n",
    "\n",
    "plt.show()\n"
   ],
   "metadata": {
    "collapsed": false,
    "ExecuteTime": {
     "end_time": "2024-10-26T15:07:20.738808100Z",
     "start_time": "2024-10-26T15:07:20.283192900Z"
    }
   },
   "id": "ee03d8aa9474d8cd"
  }
 ],
 "metadata": {
  "kernelspec": {
   "display_name": "Python 3",
   "language": "python",
   "name": "python3"
  },
  "language_info": {
   "codemirror_mode": {
    "name": "ipython",
    "version": 2
   },
   "file_extension": ".py",
   "mimetype": "text/x-python",
   "name": "python",
   "nbconvert_exporter": "python",
   "pygments_lexer": "ipython2",
   "version": "2.7.6"
  }
 },
 "nbformat": 4,
 "nbformat_minor": 5
}
